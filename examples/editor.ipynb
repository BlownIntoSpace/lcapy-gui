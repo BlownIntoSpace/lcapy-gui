{
 "cells": [
  {
   "cell_type": "code",
   "execution_count": 1,
   "metadata": {},
   "outputs": [],
   "source": [
    "from lgui.editor import Editor\n",
    "from lgui.components import Component\n",
    "\n",
    "from lcapy import Circuit\n",
    "\n",
    "import math"
   ]
  },
  {
   "cell_type": "code",
   "execution_count": 2,
   "metadata": {},
   "outputs": [
    {
     "data": {
      "application/vnd.jupyter.widget-view+json": {
       "model_id": "ca7c2e371b3d4b81a9ba6ce2284cfc76",
       "version_major": 2,
       "version_minor": 0
      },
      "text/plain": [
       "Editor(height=1000, layout=Layout(height='auto', width='100%'), width=2000)"
      ]
     },
     "metadata": {},
     "output_type": "display_data"
    },
    {
     "data": {
      "application/vnd.jupyter.widget-view+json": {
       "model_id": "2b2eb57373ea49918479ce7190ef42e4",
       "version_major": 2,
       "version_minor": 0
      },
      "text/plain": [
       "ToggleButtons(index=3, options={'Resistor': 'R', 'Inductor': 'L', 'Capacitor': 'C', 'Wire': 'W', 'Voltage': 'V…"
      ]
     },
     "metadata": {},
     "output_type": "display_data"
    }
   ],
   "source": [
    "editor = Editor()\n",
    "editor.display()"
   ]
  },
  {
   "cell_type": "code",
   "execution_count": 3,
   "metadata": {},
   "outputs": [
    {
     "name": "stdout",
     "output_type": "stream",
     "text": [
      "\n",
      "R0 1 2\n",
      "V0 3 0\n",
      "W2 1 3\n",
      "W4 0 2\n",
      "\n",
      "{(384, 408): 1, (384, 504): 2, (528, 408): 3, (528, 504): 0, (360, 408): 5}\n"
     ]
    }
   ],
   "source": [
    "netlist = editor.sheet.to_lcapy()\n",
    "print(netlist)"
   ]
  },
  {
   "cell_type": "code",
   "execution_count": 6,
   "metadata": {},
   "outputs": [
    {
     "data": {
      "text/latex": [
       "$$\\frac{V_{0}}{R_{0}}$$"
      ],
      "text/plain": [
       "V₀\n",
       "──\n",
       "R₀"
      ]
     },
     "execution_count": 6,
     "metadata": {},
     "output_type": "execute_result"
    }
   ],
   "source": [
    "cct = Circuit(netlist)\n",
    "cct.R0.I"
   ]
  }
 ],
 "metadata": {
  "kernelspec": {
   "display_name": "lcapy",
   "language": "python",
   "name": "python3"
  },
  "language_info": {
   "codemirror_mode": {
    "name": "ipython",
    "version": 3
   },
   "file_extension": ".py",
   "mimetype": "text/x-python",
   "name": "python",
   "nbconvert_exporter": "python",
   "pygments_lexer": "ipython3",
   "version": "3.11.0"
  },
  "orig_nbformat": 4,
  "vscode": {
   "interpreter": {
    "hash": "4add12480ad85bbe70dfa6b86f7bde00b6f89647678aefee0bbad0aca8d30328"
   }
  }
 },
 "nbformat": 4,
 "nbformat_minor": 2
}
