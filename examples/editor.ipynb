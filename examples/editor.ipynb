{
 "cells": [
  {
   "cell_type": "code",
   "execution_count": 1,
   "metadata": {},
   "outputs": [],
   "source": [
    "from lgui.editor import Editor\n",
    "from lgui.components import Component\n",
    "\n",
    "from lcapy import Circuit\n",
    "\n",
    "import math"
   ]
  },
  {
   "cell_type": "code",
   "execution_count": 2,
   "metadata": {},
   "outputs": [
    {
     "data": {
      "application/vnd.jupyter.widget-view+json": {
       "model_id": "42a6ea3bb452471d9c9d51995baebaef",
       "version_major": 2,
       "version_minor": 0
      },
      "text/plain": [
       "Editor(height=1000, layout=Layout(height='auto', width='100%'), width=2000)"
      ]
     },
     "execution_count": 2,
     "metadata": {},
     "output_type": "execute_result"
    }
   ],
   "source": [
    "editor = Editor()\n",
    "\n",
    "editor.draw_components()\n",
    "\n",
    "editor"
   ]
  },
  {
   "cell_type": "code",
   "execution_count": 3,
   "metadata": {},
   "outputs": [
    {
     "name": "stdout",
     "output_type": "stream",
     "text": [
      "\n",
      "W0 0 1\n",
      "W0 2 3\n",
      "W0 4 5\n",
      "W0 6 7\n",
      "\n"
     ]
    }
   ],
   "source": [
    "netlist = editor.sheet.to_lcapy()\n",
    "print(netlist)"
   ]
  },
  {
   "cell_type": "code",
   "execution_count": 4,
   "metadata": {},
   "outputs": [
    {
     "name": "stderr",
     "output_type": "stream",
     "text": [
      "/home/jordan/.miniforge3/envs/lcapy/lib/python3.11/site-packages/lcapy/netlistmixin.py:203: UserWarning: Overriding component W0\n",
      "  warn('Overriding component %s' % cpt.name)\n",
      "/home/jordan/.miniforge3/envs/lcapy/lib/python3.11/site-packages/lcapy/schematic.py:623: UserWarning: No schematic drawing hints provided!\n",
      "  warn('No schematic drawing hints provided!')\n"
     ]
    },
    {
     "data": {
      "image/png": "[encoded data removed]"
     },
     "metadata": {
      "image/png": {
       "height": 63,
       "width": 293
      }
     },
     "output_type": "display_data"
    }
   ],
   "source": [
    "cct = Circuit(netlist)\n",
    "cct.draw()"
   ]
  }
 ],
 "metadata": {
  "kernelspec": {
   "display_name": "lcapy",
   "language": "python",
   "name": "python3"
  },
  "language_info": {
   "codemirror_mode": {
    "name": "ipython",
    "version": 3
   },
   "file_extension": ".py",
   "mimetype": "text/x-python",
   "name": "python",
   "nbconvert_exporter": "python",
   "pygments_lexer": "ipython3",
   "version": "3.11.0"
  },
  "orig_nbformat": 4,
  "vscode": {
   "interpreter": {
    "hash": "4add12480ad85bbe70dfa6b86f7bde00b6f89647678aefee0bbad0aca8d30328"
   }
  }
 },
 "nbformat": 4,
 "nbformat_minor": 2
}
