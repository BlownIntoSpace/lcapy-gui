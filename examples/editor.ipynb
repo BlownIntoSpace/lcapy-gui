{
 "cells": [
  {
   "cell_type": "code",
   "execution_count": 1,
   "metadata": {},
   "outputs": [
    {
     "name": "stdout",
     "output_type": "stream",
     "text": [
      "7\n",
      "4\n",
      "\n",
      "R0 0 2 {10}; down\n",
      "C0 3 0 {2e-05}; down\n",
      "L0 2 3 {0.01}; down\n",
      "\n"
     ]
    },
    {
     "ename": "RuntimeError",
     "evalue": "The vertical schematic graph has a loop.  For example, a node needs to be both above and below another node.  Probably a component is attached to the wrong nodes.\n",
     "output_type": "error",
     "traceback": [
      "\u001b[0;31m---------------------------------------------------------------------------\u001b[0m",
      "\u001b[0;31mRuntimeError\u001b[0m                              Traceback (most recent call last)",
      "File \u001b[0;32m~/.miniforge3/envs/lcapy/lib/python3.11/site-packages/lcapy/schemgraph.py:711\u001b[0m, in \u001b[0;36mGraph.path_to_closest_known\u001b[0;34m(self, from_gnode, forward)\u001b[0m\n\u001b[1;32m    710\u001b[0m \u001b[39mtry\u001b[39;00m:\n\u001b[0;32m--> 711\u001b[0m     traverse(from_gnode)\n\u001b[1;32m    712\u001b[0m \u001b[39mexcept\u001b[39;00m \u001b[39mRuntimeError\u001b[39;00m:\n\u001b[1;32m    713\u001b[0m     \u001b[39m# W a b; right\u001b[39;00m\n\u001b[1;32m    714\u001b[0m     \u001b[39m# W c d; right\u001b[39;00m\n\u001b[1;32m    715\u001b[0m     \u001b[39m# W a c; down\u001b[39;00m\n\u001b[1;32m    716\u001b[0m     \u001b[39m# W b d; up\u001b[39;00m\n",
      "File \u001b[0;32m~/.miniforge3/envs/lcapy/lib/python3.11/site-packages/lcapy/schemgraph.py:702\u001b[0m, in \u001b[0;36mGraph.path_to_closest_known.<locals>.traverse\u001b[0;34m(gnode, depth)\u001b[0m\n\u001b[1;32m    701\u001b[0m \u001b[39m# TODO, memoize\u001b[39;00m\n\u001b[0;32m--> 702\u001b[0m dist \u001b[39m=\u001b[39m traverse(next_gnode, depth \u001b[39m+\u001b[39;49m \u001b[39m1\u001b[39;49m) \u001b[39m-\u001b[39m edge\u001b[39m.\u001b[39msize\n\u001b[1;32m    703\u001b[0m \u001b[39mif\u001b[39;00m dist \u001b[39m<\u001b[39m min_dist:\n",
      "File \u001b[0;32m~/.miniforge3/envs/lcapy/lib/python3.11/site-packages/lcapy/schemgraph.py:702\u001b[0m, in \u001b[0;36mGraph.path_to_closest_known.<locals>.traverse\u001b[0;34m(gnode, depth)\u001b[0m\n\u001b[1;32m    701\u001b[0m \u001b[39m# TODO, memoize\u001b[39;00m\n\u001b[0;32m--> 702\u001b[0m dist \u001b[39m=\u001b[39m traverse(next_gnode, depth \u001b[39m+\u001b[39;49m \u001b[39m1\u001b[39;49m) \u001b[39m-\u001b[39m edge\u001b[39m.\u001b[39msize\n\u001b[1;32m    703\u001b[0m \u001b[39mif\u001b[39;00m dist \u001b[39m<\u001b[39m min_dist:\n",
      "    \u001b[0;31m[... skipping similar frames: Graph.path_to_closest_known.<locals>.traverse at line 702 (998 times)]\u001b[0m\n",
      "File \u001b[0;32m~/.miniforge3/envs/lcapy/lib/python3.11/site-packages/lcapy/schemgraph.py:702\u001b[0m, in \u001b[0;36mGraph.path_to_closest_known.<locals>.traverse\u001b[0;34m(gnode, depth)\u001b[0m\n\u001b[1;32m    701\u001b[0m \u001b[39m# TODO, memoize\u001b[39;00m\n\u001b[0;32m--> 702\u001b[0m dist \u001b[39m=\u001b[39m traverse(next_gnode, depth \u001b[39m+\u001b[39;49m \u001b[39m1\u001b[39;49m) \u001b[39m-\u001b[39m edge\u001b[39m.\u001b[39msize\n\u001b[1;32m    703\u001b[0m \u001b[39mif\u001b[39;00m dist \u001b[39m<\u001b[39m min_dist:\n",
      "File \u001b[0;32m~/.miniforge3/envs/lcapy/lib/python3.11/site-packages/lcapy/schemgraph.py:686\u001b[0m, in \u001b[0;36mGraph.path_to_closest_known.<locals>.traverse\u001b[0;34m(gnode, depth)\u001b[0m\n\u001b[1;32m    685\u001b[0m \u001b[39mif\u001b[39;00m depth \u001b[39m>\u001b[39m \u001b[39m1000\u001b[39m:\n\u001b[0;32m--> 686\u001b[0m     \u001b[39mraise\u001b[39;00m \u001b[39mRuntimeError\u001b[39;00m(\u001b[39m'\u001b[39m\u001b[39mRecursion depth exceeded\u001b[39m\u001b[39m'\u001b[39m)\n\u001b[1;32m    688\u001b[0m \u001b[39mif\u001b[39;00m gnode\u001b[39m.\u001b[39mname \u001b[39min\u001b[39;00m (\u001b[39m'\u001b[39m\u001b[39mstart\u001b[39m\u001b[39m'\u001b[39m, \u001b[39m'\u001b[39m\u001b[39mend\u001b[39m\u001b[39m'\u001b[39m):\n\u001b[1;32m    689\u001b[0m     \u001b[39m# Choose as last resort\u001b[39;00m\n",
      "\u001b[0;31mRuntimeError\u001b[0m: Recursion depth exceeded",
      "\nDuring handling of the above exception, another exception occurred:\n",
      "\u001b[0;31mRuntimeError\u001b[0m                              Traceback (most recent call last)",
      "Cell \u001b[0;32mIn[1], line 23\u001b[0m\n\u001b[1;32m     20\u001b[0m \u001b[39mprint\u001b[39m(\u001b[39mlen\u001b[39m(Node\u001b[39m.\u001b[39mid_assigned))\n\u001b[1;32m     21\u001b[0m \u001b[39mprint\u001b[39m(editor\u001b[39m.\u001b[39msheet\u001b[39m.\u001b[39mto_lcapy())\n\u001b[0;32m---> 23\u001b[0m editor\u001b[39m.\u001b[39;49mdisplay()\n",
      "File \u001b[0;32m~/Documents/lcapy-gui/examples/lgui/editor.py:34\u001b[0m, in \u001b[0;36mEditor.display\u001b[0;34m(self)\u001b[0m\n\u001b[1;32m     29\u001b[0m netlist \u001b[39m=\u001b[39m \u001b[39mself\u001b[39m\u001b[39m.\u001b[39msheet\u001b[39m.\u001b[39mto_lcapy()\n\u001b[1;32m     30\u001b[0m svg_file \u001b[39m=\u001b[39m NamedTemporaryFile(\n\u001b[1;32m     31\u001b[0m     prefix \u001b[39m=\u001b[39m \u001b[39m\"\u001b[39m\u001b[39mlgui_\u001b[39m\u001b[39m\"\u001b[39m,\n\u001b[1;32m     32\u001b[0m     suffix \u001b[39m=\u001b[39m \u001b[39m\"\u001b[39m\u001b[39m.svg\u001b[39m\u001b[39m\"\u001b[39m\n\u001b[1;32m     33\u001b[0m )\n\u001b[0;32m---> 34\u001b[0m lcapy\u001b[39m.\u001b[39;49mCircuit(\u001b[39m\"\u001b[39;49m\u001b[39m\\n\u001b[39;49;00m\u001b[39m\"\u001b[39;49m \u001b[39m+\u001b[39;49m netlist)\u001b[39m.\u001b[39;49mdraw(\n\u001b[1;32m     35\u001b[0m     filename \u001b[39m=\u001b[39;49m svg_file\u001b[39m.\u001b[39;49mname\n\u001b[1;32m     36\u001b[0m )\n\u001b[1;32m     37\u001b[0m display(SVG(filename \u001b[39m=\u001b[39m svg_file\u001b[39m.\u001b[39mname))\n\u001b[1;32m     38\u001b[0m svg_file\u001b[39m.\u001b[39mclose()\n",
      "File \u001b[0;32m~/.miniforge3/envs/lcapy/lib/python3.11/site-packages/lcapy/netlistmixin.py:1998\u001b[0m, in \u001b[0;36mNetlistMixin.draw\u001b[0;34m(self, filename, **kwargs)\u001b[0m\n\u001b[1;32m   1995\u001b[0m \u001b[39mif\u001b[39;00m kwargs\u001b[39m.\u001b[39mpop(\u001b[39m'\u001b[39m\u001b[39ms_model\u001b[39m\u001b[39m'\u001b[39m, \u001b[39mFalse\u001b[39;00m):\n\u001b[1;32m   1996\u001b[0m     cct \u001b[39m=\u001b[39m cct\u001b[39m.\u001b[39ms_model()\n\u001b[0;32m-> 1998\u001b[0m \u001b[39mreturn\u001b[39;00m cct\u001b[39m.\u001b[39;49msch\u001b[39m.\u001b[39;49mdraw(filename\u001b[39m=\u001b[39;49mfilename, \u001b[39m*\u001b[39;49m\u001b[39m*\u001b[39;49mkwargs)\n",
      "File \u001b[0;32m~/.miniforge3/envs/lcapy/lib/python3.11/site-packages/lcapy/schematic.py:680\u001b[0m, in \u001b[0;36mSchematic.draw\u001b[0;34m(self, filename, **kwargs)\u001b[0m\n\u001b[1;32m    677\u001b[0m         remove(filename)\n\u001b[1;32m    678\u001b[0m     \u001b[39mreturn\u001b[39;00m\n\u001b[0;32m--> 680\u001b[0m \u001b[39mself\u001b[39;49m\u001b[39m.\u001b[39;49mtikz_draw(filename\u001b[39m=\u001b[39;49mfilename, \u001b[39m*\u001b[39;49m\u001b[39m*\u001b[39;49mkwargs)\n",
      "File \u001b[0;32m~/.miniforge3/envs/lcapy/lib/python3.11/site-packages/lcapy/schematic.py:468\u001b[0m, in \u001b[0;36mSchematic.tikz_draw\u001b[0;34m(self, filename, **kwargs)\u001b[0m\n\u001b[1;32m    464\u001b[0m nosave \u001b[39m=\u001b[39m kwargs\u001b[39m.\u001b[39mpop(\u001b[39m'\u001b[39m\u001b[39mnosave\u001b[39m\u001b[39m'\u001b[39m, \u001b[39mFalse\u001b[39;00m)\n\u001b[1;32m    466\u001b[0m latexrunner \u001b[39m=\u001b[39m LatexRunner((\u001b[39mself\u001b[39m\u001b[39m.\u001b[39mdebug \u001b[39m&\u001b[39m \u001b[39m2\u001b[39m) \u001b[39m!=\u001b[39m \u001b[39m0\u001b[39m)\n\u001b[0;32m--> 468\u001b[0m content \u001b[39m=\u001b[39m \u001b[39mself\u001b[39;49m\u001b[39m.\u001b[39;49m_tikz_draw(style_args\u001b[39m=\u001b[39;49mstyle_args, \u001b[39m*\u001b[39;49m\u001b[39m*\u001b[39;49mkwargs)\n\u001b[1;32m    470\u001b[0m \u001b[39mif\u001b[39;00m nosave:\n\u001b[1;32m    471\u001b[0m     \u001b[39mreturn\u001b[39;00m\n",
      "File \u001b[0;32m~/.miniforge3/envs/lcapy/lib/python3.11/site-packages/lcapy/schematic.py:365\u001b[0m, in \u001b[0;36mSchematic._tikz_draw\u001b[0;34m(self, style_args, **kwargs)\u001b[0m\n\u001b[1;32m    361\u001b[0m autoground \u001b[39m=\u001b[39m kwargs\u001b[39m.\u001b[39mget(\u001b[39m'\u001b[39m\u001b[39mautoground\u001b[39m\u001b[39m'\u001b[39m, \u001b[39mFalse\u001b[39;00m)\n\u001b[1;32m    363\u001b[0m \u001b[39mself\u001b[39m\u001b[39m.\u001b[39m_setup(autoground)\n\u001b[0;32m--> 365\u001b[0m \u001b[39mself\u001b[39;49m\u001b[39m.\u001b[39;49m_positions_calculate(method, \u001b[39mself\u001b[39;49m\u001b[39m.\u001b[39;49mdebug)\n\u001b[1;32m    367\u001b[0m \u001b[39m# Note, scale does not scale the font size.\u001b[39;00m\n\u001b[1;32m    368\u001b[0m opts \u001b[39m=\u001b[39m [\u001b[39m'\u001b[39m\u001b[39mscale=\u001b[39m\u001b[39m%.2f\u001b[39;00m\u001b[39m'\u001b[39m \u001b[39m%\u001b[39m \u001b[39mself\u001b[39m\u001b[39m.\u001b[39mscale,\n\u001b[1;32m    369\u001b[0m         \u001b[39m'\u001b[39m\u001b[39mtransform shape\u001b[39m\u001b[39m'\u001b[39m,\n\u001b[1;32m    370\u001b[0m         \u001b[39m'\u001b[39m\u001b[39m/tikz/circuitikz/bipoles/length=\u001b[39m\u001b[39m%.2f\u001b[39;00m\u001b[39mcm\u001b[39m\u001b[39m'\u001b[39m \u001b[39m%\u001b[39m \u001b[39mself\u001b[39m\u001b[39m.\u001b[39mcpt_size]\n",
      "File \u001b[0;32m~/.miniforge3/envs/lcapy/lib/python3.11/site-packages/lcapy/schematic.py:356\u001b[0m, in \u001b[0;36mSchematic._positions_calculate\u001b[0;34m(self, method, debug)\u001b[0m\n\u001b[1;32m    354\u001b[0m \u001b[39mif\u001b[39;00m \u001b[39mself\u001b[39m\u001b[39m.\u001b[39mdebug \u001b[39m&\u001b[39m \u001b[39m4\u001b[39m:\n\u001b[1;32m    355\u001b[0m     \u001b[39mprint\u001b[39m(\u001b[39m'\u001b[39m\u001b[39mSolving graphs\u001b[39m\u001b[39m'\u001b[39m)\n\u001b[0;32m--> 356\u001b[0m \u001b[39mself\u001b[39m\u001b[39m.\u001b[39mwidth, \u001b[39mself\u001b[39m\u001b[39m.\u001b[39mheight \u001b[39m=\u001b[39m placer\u001b[39m.\u001b[39;49msolve(\u001b[39mself\u001b[39;49m\u001b[39m.\u001b[39;49mnode_spacing)\n",
      "File \u001b[0;32m~/.miniforge3/envs/lcapy/lib/python3.11/site-packages/lcapy/schemplacerbase.py:99\u001b[0m, in \u001b[0;36mSchemPlacerBase.solve\u001b[0;34m(self, node_spacing)\u001b[0m\n\u001b[1;32m     96\u001b[0m \u001b[39mself\u001b[39m\u001b[39m.\u001b[39m_make_graphs()\n\u001b[1;32m     98\u001b[0m xpos, width \u001b[39m=\u001b[39m \u001b[39mself\u001b[39m\u001b[39m.\u001b[39mxgraph\u001b[39m.\u001b[39msolve()\n\u001b[0;32m---> 99\u001b[0m ypos, height \u001b[39m=\u001b[39m \u001b[39mself\u001b[39;49m\u001b[39m.\u001b[39;49mygraph\u001b[39m.\u001b[39;49msolve()\n\u001b[1;32m    101\u001b[0m scale \u001b[39m=\u001b[39m node_spacing\n\u001b[1;32m    102\u001b[0m \u001b[39mfor\u001b[39;00m n, node \u001b[39min\u001b[39;00m \u001b[39mself\u001b[39m\u001b[39m.\u001b[39mnodes\u001b[39m.\u001b[39mitems():\n",
      "File \u001b[0;32m~/.miniforge3/envs/lcapy/lib/python3.11/site-packages/lcapy/schemgraph.py:593\u001b[0m, in \u001b[0;36mGraph.solve\u001b[0;34m(self, stage)\u001b[0m\n\u001b[1;32m    590\u001b[0m     \u001b[39mreturn\u001b[39;00m\n\u001b[1;32m    592\u001b[0m \u001b[39m# Assign remaining gnodes.\u001b[39;00m\n\u001b[0;32m--> 593\u001b[0m \u001b[39mself\u001b[39;49m\u001b[39m.\u001b[39;49massign_stretchy(unknown)\n\u001b[1;32m    595\u001b[0m \u001b[39mif\u001b[39;00m unknown \u001b[39m!=\u001b[39m []:\n\u001b[1;32m    596\u001b[0m     \u001b[39mraise\u001b[39;00m \u001b[39mValueError\u001b[39;00m(\u001b[39m'\u001b[39m\u001b[39mCannot assign nodes \u001b[39m\u001b[39m%s\u001b[39;00m\u001b[39m for \u001b[39m\u001b[39m%s\u001b[39;00m\u001b[39m graph.\u001b[39m\u001b[39m\\n\u001b[39;00m\u001b[39m%s\u001b[39;00m\u001b[39m'\u001b[39m \u001b[39m%\u001b[39m\n\u001b[1;32m    597\u001b[0m                      (unknown, \u001b[39mself\u001b[39m\u001b[39m.\u001b[39mname, \u001b[39mself\u001b[39m))\n",
      "File \u001b[0;32m~/.miniforge3/envs/lcapy/lib/python3.11/site-packages/lcapy/schemgraph.py:413\u001b[0m, in \u001b[0;36mGraph.assign_stretchy\u001b[0;34m(self, unknown)\u001b[0m\n\u001b[1;32m    410\u001b[0m     unknown\u001b[39m.\u001b[39mremove(n)\n\u001b[1;32m    411\u001b[0m     \u001b[39mbreak\u001b[39;00m\n\u001b[0;32m--> 413\u001b[0m changes \u001b[39m=\u001b[39m \u001b[39mself\u001b[39;49m\u001b[39m.\u001b[39;49massign_stretchy1(gnode, unknown)\n\u001b[1;32m    414\u001b[0m \u001b[39mif\u001b[39;00m changes:\n\u001b[1;32m    415\u001b[0m     \u001b[39mself\u001b[39m\u001b[39m.\u001b[39massign_fixed(unknown)\n",
      "File \u001b[0;32m~/.miniforge3/envs/lcapy/lib/python3.11/site-packages/lcapy/schemgraph.py:332\u001b[0m, in \u001b[0;36mGraph.assign_stretchy1\u001b[0;34m(self, gnode, unknown)\u001b[0m\n\u001b[1;32m    317\u001b[0m \u001b[39mdef\u001b[39;00m \u001b[39massign_stretchy1\u001b[39m(\u001b[39mself\u001b[39m, gnode, unknown):\n\u001b[1;32m    318\u001b[0m \n\u001b[1;32m    319\u001b[0m     \u001b[39m# For each node, find the longest path between nodes with\u001b[39;00m\n\u001b[0;32m   (...)\u001b[0m\n\u001b[1;32m    329\u001b[0m     \u001b[39m# TODO, check for multiple paths with a conflict, for example,\u001b[39;00m\n\u001b[1;32m    330\u001b[0m     \u001b[39m# a stretchy path of a longer distance than a fixed path.\u001b[39;00m\n\u001b[0;32m--> 332\u001b[0m     to_path \u001b[39m=\u001b[39m \u001b[39mself\u001b[39;49m\u001b[39m.\u001b[39;49mpath_to_closest_known(gnode, forward\u001b[39m=\u001b[39;49m\u001b[39mTrue\u001b[39;49;00m)\n\u001b[1;32m    333\u001b[0m     from_path \u001b[39m=\u001b[39m \u001b[39mself\u001b[39m\u001b[39m.\u001b[39mpath_to_closest_known(gnode, forward\u001b[39m=\u001b[39m\u001b[39mFalse\u001b[39;00m)\n\u001b[1;32m    335\u001b[0m     to_gnode \u001b[39m=\u001b[39m to_path\u001b[39m.\u001b[39mto_gnode\n",
      "File \u001b[0;32m~/.miniforge3/envs/lcapy/lib/python3.11/site-packages/lcapy/schemgraph.py:723\u001b[0m, in \u001b[0;36mGraph.path_to_closest_known\u001b[0;34m(self, from_gnode, forward)\u001b[0m\n\u001b[1;32m    721\u001b[0m     \u001b[39mif\u001b[39;00m \u001b[39mself\u001b[39m\u001b[39m.\u001b[39mdebug:\n\u001b[1;32m    722\u001b[0m         msg \u001b[39m+\u001b[39m\u001b[39m=\u001b[39m \u001b[39mstr\u001b[39m(\u001b[39mself\u001b[39m)\n\u001b[0;32m--> 723\u001b[0m     \u001b[39mraise\u001b[39;00m \u001b[39mRuntimeError\u001b[39;00m(msg)\n\u001b[1;32m    725\u001b[0m \u001b[39mreturn\u001b[39;00m \u001b[39mself\u001b[39m\u001b[39m.\u001b[39mmakepath(from_gnode)\n",
      "\u001b[0;31mRuntimeError\u001b[0m: The vertical schematic graph has a loop.  For example, a node needs to be both above and below another node.  Probably a component is attached to the wrong nodes.\n"
     ]
    }
   ],
   "source": [
    "from lgui.editor import Editor\n",
    "from lgui.components import Component, Node\n",
    "\n",
    "cs = [\n",
    "    Component(Component.R, 10),\n",
    "    Component(Component.C, 20e-6),\n",
    "    Component(Component.L, 10e-3)\n",
    "]\n",
    "\n",
    "for i in range(-1, len(cs) - 1):\n",
    "    cs[i][0].connect(cs[i + 1][1])\n",
    "\n",
    "editor = Editor()\n",
    "editor.sheet.components = cs\n",
    "\n",
    "print(editor.sheet.to_lcapy())\n",
    "\n",
    "editor.display()"
   ]
  }
 ],
 "metadata": {
  "kernelspec": {
   "display_name": "lcapy",
   "language": "python",
   "name": "python3"
  },
  "language_info": {
   "codemirror_mode": {
    "name": "ipython",
    "version": 3
   },
   "file_extension": ".py",
   "mimetype": "text/x-python",
   "name": "python",
   "nbconvert_exporter": "python",
   "pygments_lexer": "ipython3",
   "version": "3.11.0"
  },
  "orig_nbformat": 4,
  "vscode": {
   "interpreter": {
    "hash": "4add12480ad85bbe70dfa6b86f7bde00b6f89647678aefee0bbad0aca8d30328"
   }
  }
 },
 "nbformat": 4,
 "nbformat_minor": 2
}
