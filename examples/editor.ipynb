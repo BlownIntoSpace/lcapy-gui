{
 "cells": [
  {
   "cell_type": "code",
   "execution_count": 1,
   "metadata": {},
   "outputs": [
    {
     "ename": "IndexError",
     "evalue": "list index out of range",
     "output_type": "error",
     "traceback": [
      "\u001b[0;31m---------------------------------------------------------------------------\u001b[0m",
      "\u001b[0;31mIndexError\u001b[0m                                Traceback (most recent call last)",
      "Cell \u001b[0;32mIn[1], line 13\u001b[0m\n\u001b[1;32m     10\u001b[0m \u001b[39mfor\u001b[39;00m i \u001b[39min\u001b[39;00m \u001b[39mrange\u001b[39m(\u001b[39m-\u001b[39m\u001b[39m1\u001b[39m, \u001b[39mlen\u001b[39m(cs) \u001b[39m-\u001b[39m \u001b[39m1\u001b[39m):\n\u001b[1;32m     11\u001b[0m     cs[i][\u001b[39m0\u001b[39m]\u001b[39m.\u001b[39mconnect(cs[i \u001b[39m+\u001b[39m \u001b[39m1\u001b[39m][\u001b[39m1\u001b[39m])\n\u001b[0;32m---> 13\u001b[0m cs[\u001b[39m3\u001b[39;49m][\u001b[39m1\u001b[39m]\u001b[39m.\u001b[39mis_ground \u001b[39m=\u001b[39m \u001b[39mTrue\u001b[39;00m\n\u001b[1;32m     15\u001b[0m editor \u001b[39m=\u001b[39m Editor()\n\u001b[1;32m     16\u001b[0m editor\u001b[39m.\u001b[39msheet\u001b[39m.\u001b[39mcomponents \u001b[39m=\u001b[39m cs\n",
      "\u001b[0;31mIndexError\u001b[0m: list index out of range"
     ]
    }
   ],
   "source": [
    "from lgui.editor import Editor\n",
    "from lgui.components import Component, Node\n",
    "\n",
    "cs = [\n",
    "    Component(Component.R, 10),\n",
    "    Component(Component.C, 20e-6),\n",
    "    Component(Component.L, 10e-3)\n",
    "]\n",
    "\n",
    "for i in range(-1, len(cs) - 1):\n",
    "    cs[i][0].connect(cs[i + 1][1])\n",
    "\n",
    "cs[2][1].is_ground = True\n",
    "\n",
    "editor = Editor()\n",
    "editor.sheet.components = cs\n",
    "\n",
    "print(editor.sheet.to_lcapy())\n",
    "\n",
    "editor.display()"
   ]
  }
 ],
 "metadata": {
  "kernelspec": {
   "display_name": "lcapy",
   "language": "python",
   "name": "python3"
  },
  "language_info": {
   "codemirror_mode": {
    "name": "ipython",
    "version": 3
   },
   "file_extension": ".py",
   "mimetype": "text/x-python",
   "name": "python",
   "nbconvert_exporter": "python",
   "pygments_lexer": "ipython3",
   "version": "3.11.0"
  },
  "orig_nbformat": 4,
  "vscode": {
   "interpreter": {
    "hash": "4add12480ad85bbe70dfa6b86f7bde00b6f89647678aefee0bbad0aca8d30328"
   }
  }
 },
 "nbformat": 4,
 "nbformat_minor": 2
}
