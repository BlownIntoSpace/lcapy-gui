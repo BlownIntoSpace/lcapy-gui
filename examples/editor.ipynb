{
 "cells": [
  {
   "cell_type": "code",
   "execution_count": 1,
   "metadata": {},
   "outputs": [],
   "source": [
    "from lgui.editor import Editor\n",
    "from lgui.components import Component\n",
    "\n",
    "from lcapy import Circuit\n",
    "\n",
    "import math"
   ]
  },
  {
   "cell_type": "code",
   "execution_count": 2,
   "metadata": {},
   "outputs": [
    {
     "data": {
      "application/vnd.jupyter.widget-view+json": {
       "model_id": "6d9ed6d08d9344aea50eb8e2304b7e8d",
       "version_major": 2,
       "version_minor": 0
      },
      "text/plain": [
       "Editor(height=1000, layout=Layout(height='auto', width='100%'), width=2000)"
      ]
     },
     "execution_count": 2,
     "metadata": {},
     "output_type": "execute_result"
    }
   ],
   "source": [
    "editor = Editor()\n",
    "\n",
    "editor.active_component = Component(Component.R, 10)\n",
    "editor.draw_components()\n",
    "\n",
    "editor"
   ]
  },
  {
   "cell_type": "code",
   "execution_count": null,
   "metadata": {},
   "outputs": [],
   "source": [
    "netlist = editor.sheet.to_lcapy()\n",
    "print(netlist)"
   ]
  },
  {
   "cell_type": "code",
   "execution_count": null,
   "metadata": {},
   "outputs": [],
   "source": [
    "cct = Circuit(netlist)\n",
    "cct.draw()"
   ]
  }
 ],
 "metadata": {
  "kernelspec": {
   "display_name": "lcapy",
   "language": "python",
   "name": "python3"
  },
  "language_info": {
   "codemirror_mode": {
    "name": "ipython",
    "version": 3
   },
   "file_extension": ".py",
   "mimetype": "text/x-python",
   "name": "python",
   "nbconvert_exporter": "python",
   "pygments_lexer": "ipython3",
   "version": "3.11.0"
  },
  "orig_nbformat": 4,
  "vscode": {
   "interpreter": {
    "hash": "4add12480ad85bbe70dfa6b86f7bde00b6f89647678aefee0bbad0aca8d30328"
   }
  }
 },
 "nbformat": 4,
 "nbformat_minor": 2
}
