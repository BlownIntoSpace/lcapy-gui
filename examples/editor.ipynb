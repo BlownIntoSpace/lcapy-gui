{
 "cells": [
  {
   "cell_type": "code",
   "execution_count": 1,
   "metadata": {},
   "outputs": [
    {
     "data": {
      "application/vnd.jupyter.widget-view+json": {
       "model_id": "326ed6d82afe4724a4615609f7ec8298",
       "version_major": 2,
       "version_minor": 0
      },
      "text/plain": [
       "Editor(height=800, width=1000)"
      ]
     },
     "execution_count": 1,
     "metadata": {},
     "output_type": "execute_result"
    }
   ],
   "source": [
    "from lgui.editor import Editor\n",
    "\n",
    "editor = Editor()\n",
    "editor"
   ]
  }
 ],
 "metadata": {
  "kernelspec": {
   "display_name": "lcapy",
   "language": "python",
   "name": "python3"
  },
  "language_info": {
   "codemirror_mode": {
    "name": "ipython",
    "version": 3
   },
   "file_extension": ".py",
   "mimetype": "text/x-python",
   "name": "python",
   "nbconvert_exporter": "python",
   "pygments_lexer": "ipython3",
   "version": "3.11.0"
  },
  "orig_nbformat": 4,
  "vscode": {
   "interpreter": {
    "hash": "4add12480ad85bbe70dfa6b86f7bde00b6f89647678aefee0bbad0aca8d30328"
   }
  }
 },
 "nbformat": 4,
 "nbformat_minor": 2
}
