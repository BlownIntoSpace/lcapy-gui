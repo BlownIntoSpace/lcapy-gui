{
 "cells": [
  {
   "cell_type": "code",
   "execution_count": 1,
   "metadata": {},
   "outputs": [],
   "source": [
    "from lgui.editor import Editor\n",
    "from lgui.components import Component\n",
    "\n",
    "from lcapy import Circuit\n",
    "\n",
    "import math"
   ]
  },
  {
   "cell_type": "code",
   "execution_count": 2,
   "metadata": {},
   "outputs": [
    {
     "ename": "AttributeError",
     "evalue": "type object 'Component' has no attribute 'GRID_LENGTH'",
     "output_type": "error",
     "traceback": [
      "\u001b[0;31m---------------------------------------------------------------------------\u001b[0m",
      "\u001b[0;31mAttributeError\u001b[0m                            Traceback (most recent call last)",
      "Cell \u001b[0;32mIn[2], line 3\u001b[0m\n\u001b[1;32m      1\u001b[0m editor \u001b[39m=\u001b[39m Editor()\n\u001b[0;32m----> 3\u001b[0m editor\u001b[39m.\u001b[39mactive_component \u001b[39m=\u001b[39m Component(Component\u001b[39m.\u001b[39;49mR, \u001b[39m10\u001b[39;49m)\n\u001b[1;32m      4\u001b[0m editor\u001b[39m.\u001b[39mdraw_components()\n\u001b[1;32m      6\u001b[0m editor\n",
      "File \u001b[0;32m~/Documents/lcapy-gui/examples/lgui/components.py:37\u001b[0m, in \u001b[0;36mComponent.__init__\u001b[0;34m(self, ctype, value)\u001b[0m\n\u001b[1;32m     35\u001b[0m \u001b[39mself\u001b[39m\u001b[39m.\u001b[39mtype \u001b[39m=\u001b[39m ctype\n\u001b[1;32m     36\u001b[0m \u001b[39mself\u001b[39m\u001b[39m.\u001b[39mvalue \u001b[39m=\u001b[39m value\n\u001b[0;32m---> 37\u001b[0m \u001b[39mself\u001b[39m\u001b[39m.\u001b[39mlength \u001b[39m=\u001b[39m Component\u001b[39m.\u001b[39;49mGRID_LENGTH\n\u001b[1;32m     38\u001b[0m \u001b[39mself\u001b[39m\u001b[39m.\u001b[39mports: \u001b[39mlist\u001b[39m[\u001b[39mtuple\u001b[39m[\u001b[39mint\u001b[39m, \u001b[39mint\u001b[39m]] \u001b[39m=\u001b[39m [(\u001b[39m0\u001b[39m, \u001b[39m0\u001b[39m)] \u001b[39m*\u001b[39m \u001b[39m2\u001b[39m\n\u001b[1;32m     39\u001b[0m \u001b[39mself\u001b[39m\u001b[39m.\u001b[39mid \u001b[39m=\u001b[39m Component\u001b[39m.\u001b[39mnext_ids[\u001b[39mself\u001b[39m\u001b[39m.\u001b[39mtype]\n",
      "\u001b[0;31mAttributeError\u001b[0m: type object 'Component' has no attribute 'GRID_LENGTH'"
     ]
    }
   ],
   "source": [
    "editor = Editor()\n",
    "\n",
    "editor.active_component = Component(Component.R, 10)\n",
    "editor.draw_components()\n",
    "\n",
    "editor"
   ]
  },
  {
   "cell_type": "code",
   "execution_count": null,
   "metadata": {},
   "outputs": [],
   "source": [
    "netlist = editor.sheet.to_lcapy()\n",
    "print(netlist)"
   ]
  },
  {
   "cell_type": "code",
   "execution_count": null,
   "metadata": {},
   "outputs": [],
   "source": [
    "cct = Circuit(netlist)\n",
    "cct.draw()"
   ]
  }
 ],
 "metadata": {
  "kernelspec": {
   "display_name": "lcapy",
   "language": "python",
   "name": "python3"
  },
  "language_info": {
   "codemirror_mode": {
    "name": "ipython",
    "version": 3
   },
   "file_extension": ".py",
   "mimetype": "text/x-python",
   "name": "python",
   "nbconvert_exporter": "python",
   "pygments_lexer": "ipython3",
   "version": "3.11.0"
  },
  "orig_nbformat": 4,
  "vscode": {
   "interpreter": {
    "hash": "4add12480ad85bbe70dfa6b86f7bde00b6f89647678aefee0bbad0aca8d30328"
   }
  }
 },
 "nbformat": 4,
 "nbformat_minor": 2
}
